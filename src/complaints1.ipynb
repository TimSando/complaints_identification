{
  "cells": [
    {
      "cell_type": "code",
      "source": [
        "from google.colab import drive\n",
        "# drive.mount('/content/drive/MLdata/ComplaintsIdentification')\n",
        "drive.mount('/content/drive/')"
      ],
      "metadata": {
        "id": "ctopOMhqBaIL",
        "outputId": "3c3a126e-cdc8-45f3-98f0-dde6683650cf",
        "colab": {
          "base_uri": "https://localhost:8080/"
        }
      },
      "execution_count": 4,
      "outputs": [
        {
          "output_type": "stream",
          "name": "stdout",
          "text": [
            "Mounted at /content/drive/\n"
          ]
        }
      ]
    },
    {
      "cell_type": "code",
      "execution_count": 6,
      "metadata": {
        "id": "vjascTew6-YK"
      },
      "outputs": [],
      "source": [
        "import pandas as pd\n",
        "import numpy as np\n",
        "import torchtext as tt\n",
        "import os"
      ]
    },
    {
      "cell_type": "code",
      "execution_count": 15,
      "metadata": {
        "id": "ytOaeFtZ6-YM",
        "outputId": "abb0bac6-56f2-4768-9f64-7d1ce7c23da2",
        "colab": {
          "base_uri": "https://localhost:8080/"
        }
      },
      "outputs": [
        {
          "output_type": "stream",
          "name": "stdout",
          "text": [
            "110908\n"
          ]
        }
      ],
      "source": [
        "train_file = pd.read_csv(\"drive/MyDrive/MLdata/ComplaintsIdentification/digital_complaints_train.csv\")\n",
        "test_file = pd.read_csv(\"drive/MyDrive/MLdata/ComplaintsIdentification/digital_complaints_test.csv\")\n",
        "complaint_labels = pd.read_csv(\"drive/MyDrive/MLdata/ComplaintsIdentification/digital_complaints_label.csv\")"
      ]
    }
  ],
  "metadata": {
    "kernelspec": {
      "display_name": "Python 3.10.1 64-bit",
      "language": "python",
      "name": "python3"
    },
    "language_info": {
      "codemirror_mode": {
        "name": "ipython",
        "version": 3
      },
      "file_extension": ".py",
      "mimetype": "text/x-python",
      "name": "python",
      "nbconvert_exporter": "python",
      "pygments_lexer": "ipython3",
      "version": "3.10.1"
    },
    "orig_nbformat": 4,
    "vscode": {
      "interpreter": {
        "hash": "bb90a9d830f75d7ed5a80f3e4c6947bc142a18893f3843fa8ae092aac198281d"
      }
    },
    "colab": {
      "provenance": []
    }
  },
  "nbformat": 4,
  "nbformat_minor": 0
}